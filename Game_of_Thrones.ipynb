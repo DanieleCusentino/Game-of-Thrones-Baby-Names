{
 "cells": [
  {
   "cell_type": "markdown",
   "id": "e981b4de",
   "metadata": {},
   "source": [
    "# Import Packages\n",
    "Below, you'll find what you need in order to run this notebook successfully. I used Pandas and Matplotlib."
   ]
  },
  {
   "cell_type": "code",
   "execution_count": 98,
   "id": "751ef2cb",
   "metadata": {},
   "outputs": [],
   "source": [
    "import pandas as pd\n",
    "import matplotlib.pyplot as plt"
   ]
  },
  {
   "cell_type": "markdown",
   "id": "2c59fd8a",
   "metadata": {},
   "source": [
    "# Read Data In\n",
    "I pulled in baby name data from 2010 and 2019; the show premiered in April 2011, so I chose the year before as a comparison to demonstrate that some of the names might not have ever been\n",
    "on anyone's radar, save people that had read the books. I chose 2019 because the series ended in May of that year, so by then, the names would have become a part of pop culture."
   ]
  },
  {
   "cell_type": "code",
   "execution_count": 99,
   "id": "3bf7491f",
   "metadata": {},
   "outputs": [],
   "source": [
    "#2010 data\n",
    "df_2010 = pd.read_csv('assets/yob_2010.csv')\n",
    "#2019 data\n",
    "df_2019 = pd.read_csv('assets/yob2019.csv')\n"
   ]
  },
  {
   "cell_type": "markdown",
   "id": "9a725b7b",
   "metadata": {},
   "source": [
    "# Combine the Two Dataframes and Clean Up\n",
    "I combined the 2010 and 2019 data into one frame so I could clean up and analyze it more easily."
   ]
  },
  {
   "cell_type": "code",
   "execution_count": 104,
   "id": "f4e21d09",
   "metadata": {},
   "outputs": [
    {
     "data": {
      "text/html": [
       "<div>\n",
       "<style scoped>\n",
       "    .dataframe tbody tr th:only-of-type {\n",
       "        vertical-align: middle;\n",
       "    }\n",
       "\n",
       "    .dataframe tbody tr th {\n",
       "        vertical-align: top;\n",
       "    }\n",
       "\n",
       "    .dataframe thead th {\n",
       "        text-align: right;\n",
       "    }\n",
       "</style>\n",
       "<table border=\"1\" class=\"dataframe\">\n",
       "  <thead>\n",
       "    <tr style=\"text-align: right;\">\n",
       "      <th></th>\n",
       "      <th>Name</th>\n",
       "      <th>Gender</th>\n",
       "      <th>2010 Name Count</th>\n",
       "      <th>2019 Name Count</th>\n",
       "    </tr>\n",
       "  </thead>\n",
       "  <tbody>\n",
       "    <tr>\n",
       "      <th>0</th>\n",
       "      <td>Isabella</td>\n",
       "      <td>F</td>\n",
       "      <td>22925.0</td>\n",
       "      <td>13360.0</td>\n",
       "    </tr>\n",
       "    <tr>\n",
       "      <th>1</th>\n",
       "      <td>Sophia</td>\n",
       "      <td>F</td>\n",
       "      <td>20648.0</td>\n",
       "      <td>13769.0</td>\n",
       "    </tr>\n",
       "    <tr>\n",
       "      <th>2</th>\n",
       "      <td>Emma</td>\n",
       "      <td>F</td>\n",
       "      <td>17354.0</td>\n",
       "      <td>17176.0</td>\n",
       "    </tr>\n",
       "    <tr>\n",
       "      <th>3</th>\n",
       "      <td>Olivia</td>\n",
       "      <td>F</td>\n",
       "      <td>17030.0</td>\n",
       "      <td>0.0</td>\n",
       "    </tr>\n",
       "    <tr>\n",
       "      <th>4</th>\n",
       "      <td>Ava</td>\n",
       "      <td>F</td>\n",
       "      <td>15436.0</td>\n",
       "      <td>14515.0</td>\n",
       "    </tr>\n",
       "    <tr>\n",
       "      <th>...</th>\n",
       "      <td>...</td>\n",
       "      <td>...</td>\n",
       "      <td>...</td>\n",
       "      <td>...</td>\n",
       "    </tr>\n",
       "    <tr>\n",
       "      <th>42858</th>\n",
       "      <td>Zyhaire</td>\n",
       "      <td>M</td>\n",
       "      <td>0.0</td>\n",
       "      <td>5.0</td>\n",
       "    </tr>\n",
       "    <tr>\n",
       "      <th>42859</th>\n",
       "      <td>Zyheem</td>\n",
       "      <td>M</td>\n",
       "      <td>0.0</td>\n",
       "      <td>5.0</td>\n",
       "    </tr>\n",
       "    <tr>\n",
       "      <th>42860</th>\n",
       "      <td>Zykel</td>\n",
       "      <td>M</td>\n",
       "      <td>0.0</td>\n",
       "      <td>5.0</td>\n",
       "    </tr>\n",
       "    <tr>\n",
       "      <th>42861</th>\n",
       "      <td>Zyking</td>\n",
       "      <td>M</td>\n",
       "      <td>0.0</td>\n",
       "      <td>5.0</td>\n",
       "    </tr>\n",
       "    <tr>\n",
       "      <th>42862</th>\n",
       "      <td>Zyn</td>\n",
       "      <td>M</td>\n",
       "      <td>0.0</td>\n",
       "      <td>5.0</td>\n",
       "    </tr>\n",
       "  </tbody>\n",
       "</table>\n",
       "<p>42863 rows × 4 columns</p>\n",
       "</div>"
      ],
      "text/plain": [
       "           Name Gender  2010 Name Count  2019 Name Count\n",
       "0      Isabella      F          22925.0          13360.0\n",
       "1        Sophia      F          20648.0          13769.0\n",
       "2          Emma      F          17354.0          17176.0\n",
       "3        Olivia      F          17030.0              0.0\n",
       "4           Ava      F          15436.0          14515.0\n",
       "...         ...    ...              ...              ...\n",
       "42858   Zyhaire      M              0.0              5.0\n",
       "42859    Zyheem      M              0.0              5.0\n",
       "42860     Zykel      M              0.0              5.0\n",
       "42861    Zyking      M              0.0              5.0\n",
       "42862       Zyn      M              0.0              5.0\n",
       "\n",
       "[42863 rows x 4 columns]"
      ]
     },
     "execution_count": 104,
     "metadata": {},
     "output_type": "execute_result"
    }
   ],
   "source": [
    "\n",
    "#I combined the two dataframes into one and merged the \"Name\" column because there were, for example, more than one instance of the name \"Arya\" in that column in both files.\n",
    "df_combined_years = pd.merge(df_2010, df_2019, on=['Name', 'Gender'], how='outer')\n",
    "\n",
    "#change NaN values to zeroes\n",
    "df_combined_years['2010 Name Count'].fillna(0, inplace = True)\n",
    "df_combined_years['2019 Name Count'].fillna(0, inplace = True)\n",
    "df_combined_years"
   ]
  },
  {
   "cell_type": "code",
   "execution_count": 101,
   "metadata": {},
   "outputs": [
    {
     "data": {
      "text/html": [
       "<div>\n",
       "<style scoped>\n",
       "    .dataframe tbody tr th:only-of-type {\n",
       "        vertical-align: middle;\n",
       "    }\n",
       "\n",
       "    .dataframe tbody tr th {\n",
       "        vertical-align: top;\n",
       "    }\n",
       "\n",
       "    .dataframe thead th {\n",
       "        text-align: right;\n",
       "    }\n",
       "</style>\n",
       "<table border=\"1\" class=\"dataframe\">\n",
       "  <thead>\n",
       "    <tr style=\"text-align: right;\">\n",
       "      <th></th>\n",
       "      <th>Name</th>\n",
       "      <th>Gender</th>\n",
       "      <th>2010 Name Count</th>\n",
       "      <th>2019 Name Count</th>\n",
       "    </tr>\n",
       "  </thead>\n",
       "  <tbody>\n",
       "    <tr>\n",
       "      <th>34254</th>\n",
       "      <td>Sansa</td>\n",
       "      <td>F</td>\n",
       "      <td>0.0</td>\n",
       "      <td>28.0</td>\n",
       "    </tr>\n",
       "    <tr>\n",
       "      <th>36823</th>\n",
       "      <td>Cersei</td>\n",
       "      <td>F</td>\n",
       "      <td>0.0</td>\n",
       "      <td>6.0</td>\n",
       "    </tr>\n",
       "  </tbody>\n",
       "</table>\n",
       "</div>"
      ],
      "text/plain": [
       "         Name Gender  2010 Name Count  2019 Name Count\n",
       "34254   Sansa      F              0.0             28.0\n",
       "36823  Cersei      F              0.0              6.0"
      ]
     },
     "execution_count": 101,
     "metadata": {},
     "output_type": "execute_result"
    }
   ],
   "source": [
    "#Testing to see if I can pull names and get counts side by side\n",
    "df_combined_years.loc[(df_combined_years['Name']=='Cersei') | (df_combined_years['Name']=='Sansa')]"
   ]
  },
  {
   "cell_type": "markdown",
   "id": "19b1a613",
   "metadata": {},
   "source": [
    "# Analyze the Data\n",
    "First, I used the .loc method to retrieve rows from the dataframe that contained specific _Game of Thrones_ character names, then I sorted values so male and female results would show up side by side. "
   ]
  },
  {
   "cell_type": "code",
   "execution_count": 102,
   "id": "473a0419",
   "metadata": {},
   "outputs": [
    {
     "data": {
      "text/html": [
       "<div>\n",
       "<style scoped>\n",
       "    .dataframe tbody tr th:only-of-type {\n",
       "        vertical-align: middle;\n",
       "    }\n",
       "\n",
       "    .dataframe tbody tr th {\n",
       "        vertical-align: top;\n",
       "    }\n",
       "\n",
       "    .dataframe thead th {\n",
       "        text-align: right;\n",
       "    }\n",
       "</style>\n",
       "<table border=\"1\" class=\"dataframe\">\n",
       "  <thead>\n",
       "    <tr style=\"text-align: right;\">\n",
       "      <th></th>\n",
       "      <th>Name</th>\n",
       "      <th>Gender</th>\n",
       "      <th>2010 Name Count</th>\n",
       "      <th>2019 Name Count</th>\n",
       "    </tr>\n",
       "  </thead>\n",
       "  <tbody>\n",
       "    <tr>\n",
       "      <th>941</th>\n",
       "      <td>Arya</td>\n",
       "      <td>F</td>\n",
       "      <td>273.0</td>\n",
       "      <td>3047.0</td>\n",
       "    </tr>\n",
       "    <tr>\n",
       "      <th>21548</th>\n",
       "      <td>Arya</td>\n",
       "      <td>M</td>\n",
       "      <td>88.0</td>\n",
       "      <td>49.0</td>\n",
       "    </tr>\n",
       "    <tr>\n",
       "      <th>32301</th>\n",
       "      <td>Bran</td>\n",
       "      <td>M</td>\n",
       "      <td>5.0</td>\n",
       "      <td>8.0</td>\n",
       "    </tr>\n",
       "    <tr>\n",
       "      <th>6419</th>\n",
       "      <td>Brienne</td>\n",
       "      <td>F</td>\n",
       "      <td>20.0</td>\n",
       "      <td>33.0</td>\n",
       "    </tr>\n",
       "    <tr>\n",
       "      <th>36823</th>\n",
       "      <td>Cersei</td>\n",
       "      <td>F</td>\n",
       "      <td>0.0</td>\n",
       "      <td>6.0</td>\n",
       "    </tr>\n",
       "    <tr>\n",
       "      <th>34102</th>\n",
       "      <td>Daenerys</td>\n",
       "      <td>F</td>\n",
       "      <td>0.0</td>\n",
       "      <td>142.0</td>\n",
       "    </tr>\n",
       "    <tr>\n",
       "      <th>41916</th>\n",
       "      <td>Daenerys</td>\n",
       "      <td>M</td>\n",
       "      <td>0.0</td>\n",
       "      <td>5.0</td>\n",
       "    </tr>\n",
       "    <tr>\n",
       "      <th>20185</th>\n",
       "      <td>Jaime</td>\n",
       "      <td>M</td>\n",
       "      <td>814.0</td>\n",
       "      <td>518.0</td>\n",
       "    </tr>\n",
       "    <tr>\n",
       "      <th>2263</th>\n",
       "      <td>Jaime</td>\n",
       "      <td>F</td>\n",
       "      <td>85.0</td>\n",
       "      <td>48.0</td>\n",
       "    </tr>\n",
       "    <tr>\n",
       "      <th>20398</th>\n",
       "      <td>Jon</td>\n",
       "      <td>M</td>\n",
       "      <td>439.0</td>\n",
       "      <td>315.0</td>\n",
       "    </tr>\n",
       "    <tr>\n",
       "      <th>36307</th>\n",
       "      <td>Jorah</td>\n",
       "      <td>F</td>\n",
       "      <td>0.0</td>\n",
       "      <td>7.0</td>\n",
       "    </tr>\n",
       "    <tr>\n",
       "      <th>39044</th>\n",
       "      <td>Jorah</td>\n",
       "      <td>M</td>\n",
       "      <td>0.0</td>\n",
       "      <td>35.0</td>\n",
       "    </tr>\n",
       "    <tr>\n",
       "      <th>34093</th>\n",
       "      <td>Khaleesi</td>\n",
       "      <td>F</td>\n",
       "      <td>0.0</td>\n",
       "      <td>522.0</td>\n",
       "    </tr>\n",
       "    <tr>\n",
       "      <th>38414</th>\n",
       "      <td>Margaery</td>\n",
       "      <td>F</td>\n",
       "      <td>0.0</td>\n",
       "      <td>5.0</td>\n",
       "    </tr>\n",
       "    <tr>\n",
       "      <th>39880</th>\n",
       "      <td>Samwell</td>\n",
       "      <td>M</td>\n",
       "      <td>0.0</td>\n",
       "      <td>10.0</td>\n",
       "    </tr>\n",
       "    <tr>\n",
       "      <th>34254</th>\n",
       "      <td>Sansa</td>\n",
       "      <td>F</td>\n",
       "      <td>0.0</td>\n",
       "      <td>28.0</td>\n",
       "    </tr>\n",
       "    <tr>\n",
       "      <th>39094</th>\n",
       "      <td>Theon</td>\n",
       "      <td>M</td>\n",
       "      <td>0.0</td>\n",
       "      <td>27.0</td>\n",
       "    </tr>\n",
       "    <tr>\n",
       "      <th>27369</th>\n",
       "      <td>Tyrion</td>\n",
       "      <td>M</td>\n",
       "      <td>11.0</td>\n",
       "      <td>57.0</td>\n",
       "    </tr>\n",
       "  </tbody>\n",
       "</table>\n",
       "</div>"
      ],
      "text/plain": [
       "           Name Gender  2010 Name Count  2019 Name Count\n",
       "941        Arya      F            273.0           3047.0\n",
       "21548      Arya      M             88.0             49.0\n",
       "32301      Bran      M              5.0              8.0\n",
       "6419    Brienne      F             20.0             33.0\n",
       "36823    Cersei      F              0.0              6.0\n",
       "34102  Daenerys      F              0.0            142.0\n",
       "41916  Daenerys      M              0.0              5.0\n",
       "20185     Jaime      M            814.0            518.0\n",
       "2263      Jaime      F             85.0             48.0\n",
       "20398       Jon      M            439.0            315.0\n",
       "36307     Jorah      F              0.0              7.0\n",
       "39044     Jorah      M              0.0             35.0\n",
       "34093  Khaleesi      F              0.0            522.0\n",
       "38414  Margaery      F              0.0              5.0\n",
       "39880   Samwell      M              0.0             10.0\n",
       "34254     Sansa      F              0.0             28.0\n",
       "39094     Theon      M              0.0             27.0\n",
       "27369    Tyrion      M             11.0             57.0"
      ]
     },
     "execution_count": 102,
     "metadata": {},
     "output_type": "execute_result"
    }
   ],
   "source": [
    "#See how many times specific character names show up in the dataframe to compare occurences in year 2010 vs. 2019 (HOW TO SHOW RESULTS EVEN IF ZERO)\n",
    "df_characters = df_combined_years.loc[\n",
    "                        (df_combined_years['Name']=='Cersei') |  \n",
    "                        (df_combined_years['Name']=='Arya') | \n",
    "                        (df_combined_years['Name']=='Jon') | \n",
    "                        (df_combined_years['Name']=='Khaleesi') |\n",
    "                        (df_combined_years['Name']=='Bran') |\n",
    "                        (df_combined_years['Name']=='Brienne') |\n",
    "                        (df_combined_years['Name']=='Daenerys') |\n",
    "                        (df_combined_years['Name']=='Jaime') |\n",
    "                        (df_combined_years['Name']=='Jorah') |\n",
    "                        (df_combined_years['Name']=='Margaery') |\n",
    "                        (df_combined_years['Name']=='Samwell') |\n",
    "                        (df_combined_years['Name']=='Sansa') |\n",
    "                        (df_combined_years['Name']=='Theon') |\n",
    "                        (df_combined_years['Name']=='Tyrion')\n",
    "                         ]\n",
    "#Sort by Name so that male and female values show up paired together.\n",
    "df_characters.sort_values('Name')\n"
   ]
  },
  {
   "cell_type": "code",
   "execution_count": 103,
   "id": "a2683ca1",
   "metadata": {},
   "outputs": [
    {
     "data": {
      "image/png": "[encoded data removed]",
      "text/plain": [
       "<Figure size 432x288 with 1 Axes>"
      ]
     },
     "metadata": {
      "needs_background": "light"
     },
     "output_type": "display_data"
    }
   ],
   "source": [
    "df_characters[['2010 Name Count', '2019 Name Count']].plot()\n",
    "plt.show()"
   ]
  },
  {
   "cell_type": "code",
   "execution_count": 125,
   "id": "3bfacef6",
   "metadata": {},
   "outputs": [
    {
     "data": {
      "text/plain": [
       "<AxesSubplot:title={'center':'TESTING'}, xlabel='Character Name', ylabel='Number of Occurences'>"
      ]
     },
     "execution_count": 125,
     "metadata": {},
     "output_type": "execute_result"
    },
    {
     "data": {
      "image/png": "[encoded data removed]",
      "text/plain": [
       "<Figure size 1080x576 with 1 Axes>"
      ]
     },
     "metadata": {
      "needs_background": "light"
     },
     "output_type": "display_data"
    },
    {
     "data": {
      "image/png": "[encoded data removed]",
      "text/plain": [
       "<Figure size 432x288 with 1 Axes>"
      ]
     },
     "metadata": {
      "needs_background": "light"
     },
     "output_type": "display_data"
    },
    {
     "data": {
      "image/png": "[encoded data removed]",
      "text/plain": [
       "<Figure size 1080x576 with 1 Axes>"
      ]
     },
     "metadata": {
      "needs_background": "light"
     },
     "output_type": "display_data"
    }
   ],
   "source": [
    "df_characters.plot.bar(x='Name', y='2010 Name Count', rot=70, title='Character Names Before Show Premiered', xlabel='Character Name', figsize=(15, 8))\n",
    "df_characters.plot.bar(x='Name', y='2019 Name Count', rot=70, title='Character Names After Series Ended', xlabel='Character Name')\n",
    "df_characters.plot.bar(x=('Name'), y=['2010 Name Count', '2019 Name Count'], rot=70, title=\"TESTING\", figsize=(15, 8), stacked=True, xlabel='Character Name', ylabel='Number of Occurences')\n",
    "  \n",
    "#plot male and female separately?\""
   ]
  },
  {
   "cell_type": "markdown",
   "id": "67ed37e8",
   "metadata": {},
   "source": [
    "# Conclusion\n",
    "Copy goes here"
   ]
  }
 ],
 "metadata": {
  "kernelspec": {
   "display_name": "Python 3.10.4 64-bit",
   "language": "python",
   "name": "python3"
  },
  "language_info": {
   "codemirror_mode": {
    "name": "ipython",
    "version": 3
   },
   "file_extension": ".py",
   "mimetype": "text/x-python",
   "name": "python",
   "nbconvert_exporter": "python",
   "pygments_lexer": "ipython3",
   "version": "3.10.4"
  },
  "vscode": {
   "interpreter": {
    "hash": "aee8b7b246df8f9039afb4144a1f6fd8d2ca17a180786b69acc140d282b71a49"
   }
  }
 },
 "nbformat": 4,
 "nbformat_minor": 5
}
