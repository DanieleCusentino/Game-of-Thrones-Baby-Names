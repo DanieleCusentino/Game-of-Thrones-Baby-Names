{
 "cells": [
  {
   "cell_type": "code",
   "execution_count": 1,
   "id": "8638b7a5",
   "metadata": {},
   "outputs": [],
   "source": [
    "#import packages\n",
    "import json\n",
    "import matplotlib.pyplot as plt\n",
    "import pandas as pd\n",
    "import glob\n",
    "import os"
   ]
  },
  {
   "cell_type": "code",
   "execution_count": 4,
   "id": "c7ba5de9",
   "metadata": {},
   "outputs": [
    {
     "name": "stdout",
     "output_type": "stream",
     "text": [
      "\n",
      "Original file:\n",
      "            Name Gender  2019 Name Count\n",
      "0           Emma      F            17176\n",
      "1            Ava      F            14515\n",
      "2         Sophia      F            13769\n",
      "3       Isabella      F            13360\n",
      "4      Charlotte      F            13206\n",
      "...          ...    ...              ...\n",
      "32067     Zyheem      M                5\n",
      "32068      Zykel      M                5\n",
      "32069     Zyking      M                5\n",
      "32070        Zyn      M                5\n",
      "32071      Zyran      M                5\n",
      "\n",
      "[32072 rows x 3 columns]\n",
      "\n",
      "Modified file:\n",
      "            Name Gender  2019 Name Count\n",
      "0           Emma      F            17176\n",
      "1            Ava      F            14515\n",
      "2         Sophia      F            13769\n",
      "3       Isabella      F            13360\n",
      "4      Charlotte      F            13206\n",
      "...          ...    ...              ...\n",
      "32067     Zyheem      M                5\n",
      "32068      Zykel      M                5\n",
      "32069     Zyking      M                5\n",
      "32070        Zyn      M                5\n",
      "32071      Zyran      M                5\n",
      "\n",
      "[32072 rows x 3 columns]\n"
     ]
    }
   ],
   "source": [
    "#read year_of_birth 2010 csv file\n",
    "df = pd.read_csv(\"assets/yob_2010.csv\")\n",
    "\n",
    "#read year_of_birth 2019 csv file\n",
    "df1 = pd.read_csv(\"assets/yob2019.csv\")\n",
    "\n",
    "\n",
    "\n",
    "# read contents of csv files\n",
    "file = pd.read_csv(\"assets/yob2019.csv\")\n",
    "print(\"\\nOriginal file:\")\n",
    "print(file)\n",
    "\n",
    "# adding headers\n",
    "headerList = ['Name', 'Gender', '2019 Name Count']\n",
    "\n",
    "# convert data frame to csv\n",
    "file.to_csv(\"assets/yob2019.csv\", header=headerList, index=False)\n",
    "\n",
    "# display modified csv file\n",
    "file2 = pd.read_csv(\"assets/yob2019.csv\")\n",
    "print('\\nModified file:')\n",
    "print(file2)\n"
   ]
  },
  {
   "cell_type": "code",
   "execution_count": 77,
   "id": "473a0419",
   "metadata": {},
   "outputs": [
    {
     "data": {
      "text/html": [
       "<div>\n",
       "<style scoped>\n",
       "    .dataframe tbody tr th:only-of-type {\n",
       "        vertical-align: middle;\n",
       "    }\n",
       "\n",
       "    .dataframe tbody tr th {\n",
       "        vertical-align: top;\n",
       "    }\n",
       "\n",
       "    .dataframe thead th {\n",
       "        text-align: right;\n",
       "    }\n",
       "</style>\n",
       "<table border=\"1\" class=\"dataframe\">\n",
       "  <thead>\n",
       "    <tr style=\"text-align: right;\">\n",
       "      <th></th>\n",
       "      <th>Name</th>\n",
       "      <th>Gender</th>\n",
       "      <th>2019 Name Count</th>\n",
       "    </tr>\n",
       "  </thead>\n",
       "  <tbody>\n",
       "    <tr>\n",
       "      <th>14128</th>\n",
       "      <td>Cersei</td>\n",
       "      <td>F</td>\n",
       "      <td>6</td>\n",
       "    </tr>\n",
       "  </tbody>\n",
       "</table>\n",
       "</div>"
      ],
      "text/plain": [
       "         Name Gender  2019 Name Count\n",
       "14128  Cersei      F                6"
      ]
     },
     "execution_count": 77,
     "metadata": {},
     "output_type": "execute_result"
    }
   ],
   "source": [
    "# find the name Cersei in the name column\n",
    "df[df['Name'].str.contains(\"Cersei\")]"
   ]
  },
  {
   "cell_type": "code",
   "execution_count": 78,
   "id": "428da860",
   "metadata": {
    "scrolled": true
   },
   "outputs": [
    {
     "name": "stdout",
     "output_type": "stream",
     "text": [
      "\u001b[H\u001b[2J"
     ]
    }
   ],
   "source": []
  },
  {
   "cell_type": "code",
   "execution_count": null,
   "id": "d0bb31b5",
   "metadata": {},
   "outputs": [],
   "source": []
  },
  {
   "cell_type": "code",
   "execution_count": null,
   "id": "ea7821fe",
   "metadata": {},
   "outputs": [],
   "source": []
  }
 ],
 "metadata": {
  "kernelspec": {
   "display_name": "Python 3.10.4 64-bit",
   "language": "python",
   "name": "python3"
  },
  "language_info": {
   "codemirror_mode": {
    "name": "ipython",
    "version": 3
   },
   "file_extension": ".py",
   "mimetype": "text/x-python",
   "name": "python",
   "nbconvert_exporter": "python",
   "pygments_lexer": "ipython3",
   "version": "3.10.4"
  },
  "vscode": {
   "interpreter": {
    "hash": "aee8b7b246df8f9039afb4144a1f6fd8d2ca17a180786b69acc140d282b71a49"
   }
  }
 },
 "nbformat": 4,
 "nbformat_minor": 5
}
