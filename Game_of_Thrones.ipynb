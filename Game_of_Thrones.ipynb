{
 "cells": [
  {
   "cell_type": "code",
   "execution_count": 86,
   "id": "8638b7a5",
   "metadata": {},
   "outputs": [],
   "source": [
    "#import packages\n",
    "import json\n",
    "import matplotlib.pyplot as plt\n",
    "import pandas as pd\n"
   ]
  },
  {
   "cell_type": "code",
   "execution_count": 200,
   "id": "3bf7491f",
   "metadata": {},
   "outputs": [
    {
     "data": {
      "text/html": [
       "<div>\n",
       "<style scoped>\n",
       "    .dataframe tbody tr th:only-of-type {\n",
       "        vertical-align: middle;\n",
       "    }\n",
       "\n",
       "    .dataframe tbody tr th {\n",
       "        vertical-align: top;\n",
       "    }\n",
       "\n",
       "    .dataframe thead th {\n",
       "        text-align: right;\n",
       "    }\n",
       "</style>\n",
       "<table border=\"1\" class=\"dataframe\">\n",
       "  <thead>\n",
       "    <tr style=\"text-align: right;\">\n",
       "      <th></th>\n",
       "      <th>Name</th>\n",
       "      <th>Gender</th>\n",
       "      <th>2010 Name Count</th>\n",
       "      <th>2019 Name Count</th>\n",
       "    </tr>\n",
       "  </thead>\n",
       "  <tbody>\n",
       "    <tr>\n",
       "      <th>0</th>\n",
       "      <td>Isabella</td>\n",
       "      <td>F</td>\n",
       "      <td>22925.0</td>\n",
       "      <td>NaN</td>\n",
       "    </tr>\n",
       "    <tr>\n",
       "      <th>1</th>\n",
       "      <td>Sophia</td>\n",
       "      <td>F</td>\n",
       "      <td>20648.0</td>\n",
       "      <td>NaN</td>\n",
       "    </tr>\n",
       "    <tr>\n",
       "      <th>2</th>\n",
       "      <td>Emma</td>\n",
       "      <td>F</td>\n",
       "      <td>17354.0</td>\n",
       "      <td>NaN</td>\n",
       "    </tr>\n",
       "    <tr>\n",
       "      <th>3</th>\n",
       "      <td>Olivia</td>\n",
       "      <td>F</td>\n",
       "      <td>17030.0</td>\n",
       "      <td>NaN</td>\n",
       "    </tr>\n",
       "    <tr>\n",
       "      <th>4</th>\n",
       "      <td>Ava</td>\n",
       "      <td>F</td>\n",
       "      <td>15436.0</td>\n",
       "      <td>NaN</td>\n",
       "    </tr>\n",
       "    <tr>\n",
       "      <th>...</th>\n",
       "      <td>...</td>\n",
       "      <td>...</td>\n",
       "      <td>...</td>\n",
       "      <td>...</td>\n",
       "    </tr>\n",
       "    <tr>\n",
       "      <th>66156</th>\n",
       "      <td>Zyheem</td>\n",
       "      <td>M</td>\n",
       "      <td>NaN</td>\n",
       "      <td>5.0</td>\n",
       "    </tr>\n",
       "    <tr>\n",
       "      <th>66157</th>\n",
       "      <td>Zykel</td>\n",
       "      <td>M</td>\n",
       "      <td>NaN</td>\n",
       "      <td>5.0</td>\n",
       "    </tr>\n",
       "    <tr>\n",
       "      <th>66158</th>\n",
       "      <td>Zyking</td>\n",
       "      <td>M</td>\n",
       "      <td>NaN</td>\n",
       "      <td>5.0</td>\n",
       "    </tr>\n",
       "    <tr>\n",
       "      <th>66159</th>\n",
       "      <td>Zyn</td>\n",
       "      <td>M</td>\n",
       "      <td>NaN</td>\n",
       "      <td>5.0</td>\n",
       "    </tr>\n",
       "    <tr>\n",
       "      <th>66160</th>\n",
       "      <td>Zyran</td>\n",
       "      <td>M</td>\n",
       "      <td>NaN</td>\n",
       "      <td>5.0</td>\n",
       "    </tr>\n",
       "  </tbody>\n",
       "</table>\n",
       "<p>66161 rows × 4 columns</p>\n",
       "</div>"
      ],
      "text/plain": [
       "           Name Gender  2010 Name Count  2019 Name Count\n",
       "0      Isabella      F          22925.0              NaN\n",
       "1        Sophia      F          20648.0              NaN\n",
       "2          Emma      F          17354.0              NaN\n",
       "3        Olivia      F          17030.0              NaN\n",
       "4           Ava      F          15436.0              NaN\n",
       "...         ...    ...              ...              ...\n",
       "66156    Zyheem      M              NaN              5.0\n",
       "66157     Zykel      M              NaN              5.0\n",
       "66158    Zyking      M              NaN              5.0\n",
       "66159       Zyn      M              NaN              5.0\n",
       "66160     Zyran      M              NaN              5.0\n",
       "\n",
       "[66161 rows x 4 columns]"
      ]
     },
     "execution_count": 200,
     "metadata": {},
     "output_type": "execute_result"
    }
   ],
   "source": [
    "#I pulled in baby name data from 2010 and 2019; the show premiered in April 2011, so I chose the year before as a comparison to demonstrate that some of the names might not have ever been\n",
    "#on anyone's radar, save people that had read the books. I chose 2019 because the series ended in May of that year, so by then, the names would have become a part of pop culture. \n",
    "df_2010 = pd.read_csv('assets/yob_2010.csv')\n",
    "df_2019 = pd.read_csv('assets/yob2019.csv')\n",
    "\n",
    "#I combined the two dataframes into one.\n",
    "years_dataframes = [df_2010, df_2019]\n",
    "df_combined_years = pd.concat(years_dataframes, ignore_index=True)\n",
    "df_combined_years\n",
    "\n",
    "#I know there are Emmas(and other duplicate names) in 2010 and 2019, so how do combine all mentions of Emma (and other names) as one result in the name column? "
   ]
  },
  {
   "cell_type": "code",
   "execution_count": 132,
   "id": "df188b56",
   "metadata": {},
   "outputs": [
    {
     "data": {
      "text/plain": [
       "Name                object\n",
       "Gender              object\n",
       "2010 Name Count    float64\n",
       "2019 Name Count    float64\n",
       "dtype: object"
      ]
     },
     "execution_count": 132,
     "metadata": {},
     "output_type": "execute_result"
    }
   ],
   "source": [
    "df.dtypes"
   ]
  },
  {
   "cell_type": "code",
   "execution_count": 174,
   "id": "2283ef10",
   "metadata": {},
   "outputs": [],
   "source": [
    "#convert \"Name Count\" columns to integers; changing NaN results to zeroes"
   ]
  },
  {
   "cell_type": "code",
   "execution_count": 203,
   "id": "473a0419",
   "metadata": {},
   "outputs": [
    {
     "data": {
      "text/html": [
       "<div>\n",
       "<style scoped>\n",
       "    .dataframe tbody tr th:only-of-type {\n",
       "        vertical-align: middle;\n",
       "    }\n",
       "\n",
       "    .dataframe tbody tr th {\n",
       "        vertical-align: top;\n",
       "    }\n",
       "\n",
       "    .dataframe thead th {\n",
       "        text-align: right;\n",
       "    }\n",
       "</style>\n",
       "<table border=\"1\" class=\"dataframe\">\n",
       "  <thead>\n",
       "    <tr style=\"text-align: right;\">\n",
       "      <th></th>\n",
       "      <th>Name</th>\n",
       "      <th>Gender</th>\n",
       "      <th>2010 Name Count</th>\n",
       "      <th>2019 Name Count</th>\n",
       "    </tr>\n",
       "  </thead>\n",
       "  <tbody>\n",
       "    <tr>\n",
       "      <th>1518</th>\n",
       "      <td>Daenerys</td>\n",
       "      <td>F</td>\n",
       "      <td>NaN</td>\n",
       "      <td>142.0</td>\n",
       "    </tr>\n",
       "    <tr>\n",
       "      <th>30491</th>\n",
       "      <td>Daenerys</td>\n",
       "      <td>M</td>\n",
       "      <td>NaN</td>\n",
       "      <td>5.0</td>\n",
       "    </tr>\n",
       "  </tbody>\n",
       "</table>\n",
       "</div>"
      ],
      "text/plain": [
       "           Name Gender  2010 Name Count  2019 Name Count\n",
       "1518   Daenerys      F              NaN            142.0\n",
       "30491  Daenerys      M              NaN              5.0"
      ]
     },
     "execution_count": 203,
     "metadata": {},
     "output_type": "execute_result"
    }
   ],
   "source": [
    "# find the name Cersei in the name column\n",
    "df[df['Name'].str.contains('Cersei')]\n"
   ]
  }
 ],
 "metadata": {
  "kernelspec": {
   "display_name": "Python 3.10.4 64-bit",
   "language": "python",
   "name": "python3"
  },
  "language_info": {
   "codemirror_mode": {
    "name": "ipython",
    "version": 3
   },
   "file_extension": ".py",
   "mimetype": "text/x-python",
   "name": "python",
   "nbconvert_exporter": "python",
   "pygments_lexer": "ipython3",
   "version": "3.10.4"
  },
  "vscode": {
   "interpreter": {
    "hash": "aee8b7b246df8f9039afb4144a1f6fd8d2ca17a180786b69acc140d282b71a49"
   }
  }
 },
 "nbformat": 4,
 "nbformat_minor": 5
}
