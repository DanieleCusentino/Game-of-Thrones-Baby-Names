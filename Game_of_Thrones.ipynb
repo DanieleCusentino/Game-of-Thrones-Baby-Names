{
 "cells": [
  {
   "cell_type": "code",
   "execution_count": 35,
   "id": "8638b7a5",
   "metadata": {},
   "outputs": [],
   "source": [
    "#import packages\n",
    "import datetime as dt\n",
    "import json\n",
    "import time\n",
    "import matplotlib.pyplot as plt\n",
    "import pandas as pd"
   ]
  },
  {
   "cell_type": "code",
   "execution_count": 41,
   "id": "c7ba5de9",
   "metadata": {},
   "outputs": [
    {
     "name": "stdout",
     "output_type": "stream",
     "text": [
      "\n",
      "Original file:\n",
      "            Name Gender  2019 Name Count\n",
      "0           Emma      F            17176\n",
      "1            Ava      F            14515\n",
      "2         Sophia      F            13769\n",
      "3       Isabella      F            13360\n",
      "4      Charlotte      F            13206\n",
      "...          ...    ...              ...\n",
      "32067     Zyheem      M                5\n",
      "32068      Zykel      M                5\n",
      "32069     Zyking      M                5\n",
      "32070        Zyn      M                5\n",
      "32071      Zyran      M                5\n",
      "\n",
      "[32072 rows x 3 columns]\n",
      "\n",
      "Modified file:\n",
      "            Name Gender  2019 Name Count\n",
      "0           Emma      F            17176\n",
      "1            Ava      F            14515\n",
      "2         Sophia      F            13769\n",
      "3       Isabella      F            13360\n",
      "4      Charlotte      F            13206\n",
      "...          ...    ...              ...\n",
      "32067     Zyheem      M                5\n",
      "32068      Zykel      M                5\n",
      "32069     Zyking      M                5\n",
      "32070        Zyn      M                5\n",
      "32071      Zyran      M                5\n",
      "\n",
      "[32072 rows x 3 columns]\n"
     ]
    }
   ],
   "source": [
    "#read year_of_birth dsv file\n",
    "df = pd.read_csv(\"assets/yob2019.csv\")\n",
    "\n",
    "# read contents of csv file\n",
    "file = pd.read_csv(\"assets/yob2019.csv\")\n",
    "print(\"\\nOriginal file:\")\n",
    "print(file)\n",
    "\n",
    "# adding headers\n",
    "headerList = ['Name', 'Gender', '2019 Name Count']\n",
    "\n",
    "# convert data frame to csv\n",
    "file.to_csv(\"assets/yob2019.csv\", header=headerList, index=False)\n",
    "\n",
    "# display modified csv file\n",
    "file2 = pd.read_csv(\"assets/yob2019.csv\")\n",
    "print('\\nModified file:')\n",
    "print(file2)\n"
   ]
  },
  {
   "cell_type": "code",
   "execution_count": null,
   "id": "473a0419",
   "metadata": {},
   "outputs": [],
   "source": []
  },
  {
   "cell_type": "code",
   "execution_count": null,
   "id": "8fc0f547",
   "metadata": {},
   "outputs": [],
   "source": []
  }
 ],
 "metadata": {
  "kernelspec": {
   "display_name": "Python 3 (ipykernel)",
   "language": "python",
   "name": "python3"
  },
  "language_info": {
   "codemirror_mode": {
    "name": "ipython",
    "version": 3
   },
   "file_extension": ".py",
   "mimetype": "text/x-python",
   "name": "python",
   "nbconvert_exporter": "python",
   "pygments_lexer": "ipython3",
   "version": "3.9.7"
  }
 },
 "nbformat": 4,
 "nbformat_minor": 5
}
